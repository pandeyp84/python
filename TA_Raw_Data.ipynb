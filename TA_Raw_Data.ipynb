{
  "nbformat": 4,
  "nbformat_minor": 0,
  "metadata": {
    "colab": {
      "provenance": [],
      "authorship_tag": "ABX9TyN5UuZ+Mjmy1lHCSDU6XHAh",
      "include_colab_link": true
    },
    "kernelspec": {
      "name": "python3",
      "display_name": "Python 3"
    },
    "language_info": {
      "name": "python"
    }
  },
  "cells": [
    {
      "cell_type": "markdown",
      "metadata": {
        "id": "view-in-github",
        "colab_type": "text"
      },
      "source": [
        "<a href=\"https://colab.research.google.com/github/pandeyp84/python/blob/main/TA_Raw_Data.ipynb\" target=\"_parent\"><img src=\"https://colab.research.google.com/assets/colab-badge.svg\" alt=\"Open In Colab\"/></a>"
      ]
    },
    {
      "cell_type": "code",
      "execution_count": null,
      "metadata": {
        "id": "RNjlkxkLyLFp"
      },
      "outputs": [],
      "source": []
    },
    {
      "cell_type": "code",
      "source": [
        "pip install pandas numpy\n"
      ],
      "metadata": {
        "colab": {
          "base_uri": "https://localhost:8080/"
        },
        "id": "96itbrWAyOVX",
        "outputId": "ff6c44ab-aad6-4948-888c-dcb53ff7cc6d"
      },
      "execution_count": 1,
      "outputs": [
        {
          "output_type": "stream",
          "name": "stdout",
          "text": [
            "Requirement already satisfied: pandas in /usr/local/lib/python3.10/dist-packages (2.0.3)\n",
            "Requirement already satisfied: numpy in /usr/local/lib/python3.10/dist-packages (1.25.2)\n",
            "Requirement already satisfied: python-dateutil>=2.8.2 in /usr/local/lib/python3.10/dist-packages (from pandas) (2.8.2)\n",
            "Requirement already satisfied: pytz>=2020.1 in /usr/local/lib/python3.10/dist-packages (from pandas) (2023.4)\n",
            "Requirement already satisfied: tzdata>=2022.1 in /usr/local/lib/python3.10/dist-packages (from pandas) (2024.1)\n",
            "Requirement already satisfied: six>=1.5 in /usr/local/lib/python3.10/dist-packages (from python-dateutil>=2.8.2->pandas) (1.16.0)\n"
          ]
        }
      ]
    },
    {
      "cell_type": "code",
      "source": [
        "import pandas as pd\n",
        "import numpy as np\n",
        "\n",
        "# Define additional columns and stages\n",
        "stages = [\"Received\", \"Screened\", \"Qualified\", \"Interviewed\", \"Offered\", \"Hired\"]\n",
        "rejection_stages = [\"None\", \"Screened\", \"Qualified\", \"Interviewed\", \"Offered\"]\n",
        "\n",
        "# Define meaningful position names and IDs\n",
        "position_ids = [101, 102, 103, 104, 105, 106, 107, 108, 109, 110]\n",
        "position_names = [\"Director HR\", \"VP Finance\", \"Sales Executive\", \"Marketing Manager\", \"Product Manager\",\n",
        "                  \"Software Engineer\", \"Data Scientist\", \"Operations Manager\", \"Customer Support Lead\", \"HR Analyst\"]\n",
        "\n",
        "# Define sources and distribution\n",
        "sources = [\"Employee Referral\", \"Internal Job Portal\", \"Naukri.com\", \"LinkedIn\", \"Indeed\", \"Campus\"]\n",
        "source_distribution = [0.05, 0.10, 0.25, 0.30, 0.20, 0.10]\n",
        "\n",
        "# Generate date ranges\n",
        "def generate_dates(base_date, stages, current_stage):\n",
        "    approval_date = base_date\n",
        "    first_interaction_date = approval_date + pd.DateOffset(days=np.random.randint(1, 5))\n",
        "    if current_stage == \"Hired\":\n",
        "        offer_date = first_interaction_date + pd.DateOffset(days=np.random.randint(5, 10))\n",
        "        rejection_date = pd.NaT\n",
        "    else:\n",
        "        offer_date = pd.NaT\n",
        "        rejection_date = first_interaction_date + pd.DateOffset(days=np.random.randint(5, 10))\n",
        "    return approval_date, first_interaction_date, offer_date, rejection_date\n",
        "\n",
        "# Generate sample data\n",
        "np.random.seed(42)  # For reproducibility\n",
        "\n",
        "data = []\n",
        "candidate_id = 1\n",
        "base_date = pd.to_datetime('2023-01-01')\n",
        "\n",
        "for pos_id, pos_name in zip(position_ids, position_names):\n",
        "    num_candidates = np.random.randint(5, 15)  # Random number of CVs (at least 5)\n",
        "    for _ in range(num_candidates):\n",
        "        gender = np.random.choice([0, 1])\n",
        "        source = np.random.choice(sources, p=source_distribution)\n",
        "        current_stage = np.random.choice(stages, p=[0.4, 0.25, 0.2, 0.1, 0.03, 0.02])\n",
        "\n",
        "        if current_stage == \"Hired\":\n",
        "            rejection_stage = \"None\"\n",
        "        else:\n",
        "            rejection_stage = np.random.choice(rejection_stages, p=[0.4, 0.25, 0.2, 0.1, 0.05])\n",
        "            current_stage = rejection_stage if rejection_stage != \"None\" else current_stage\n",
        "\n",
        "        approval_date, first_interaction_date, offer_date, rejection_date = generate_dates(base_date, stages, current_stage)\n",
        "\n",
        "        data.append([pos_id, pos_name, candidate_id, gender, source, current_stage, rejection_stage,\n",
        "                     approval_date, first_interaction_date, offer_date, rejection_date])\n",
        "        candidate_id += 1\n",
        "\n",
        "# Convert to DataFrame\n",
        "df = pd.DataFrame(data, columns=[\"Position ID\", \"Position\", \"Candidate ID\", \"Gender\", \"Source of CV\",\n",
        "                                 \"Status\", \"Rejection Stage\", \"Position Approval Date\", \"Candidate First Interaction Date\",\n",
        "                                 \"Offer Release Date\", \"Candidate Rejection Date\"])\n",
        "\n",
        "# Ensure at least one hired candidate per position\n",
        "for pos_id in position_ids:\n",
        "    if df[(df[\"Position ID\"] == pos_id) & (df[\"Status\"] == \"Hired\")].empty:\n",
        "        # Update one candidate's status to 'Hired'\n",
        "        idx = df[df[\"Position ID\"] == pos_id].sample(n=1).index\n",
        "        df.loc[idx, \"Status\"] = \"Hired\"\n",
        "        df.loc[idx, \"Rejection Stage\"] = \"None\"\n",
        "        df.loc[idx, \"Offer Release Date\"] = df.loc[idx, \"Candidate First Interaction Date\"] + pd.DateOffset(days=np.random.randint(5, 10))\n",
        "        df.loc[idx, \"Candidate Rejection Date\"] = pd.NaT\n",
        "\n",
        "# Save to CSV file\n",
        "df.to_csv(\"TA_Raw_Data_Updated_with_Stages.csv\", index=False)\n",
        "print(\"CSV file generated successfully: TA_Raw_Data_Updated_with_Stages.csv\")\n"
      ],
      "metadata": {
        "colab": {
          "base_uri": "https://localhost:8080/"
        },
        "id": "aqVMuruHySkj",
        "outputId": "aea50e57-628b-4f16-f49b-f9b2561173bd"
      },
      "execution_count": 2,
      "outputs": [
        {
          "output_type": "stream",
          "name": "stdout",
          "text": [
            "CSV file generated successfully: TA_Raw_Data_Updated_with_Stages.csv\n"
          ]
        }
      ]
    },
    {
      "cell_type": "code",
      "source": [
        "python generate_ta_data.py\n"
      ],
      "metadata": {
        "colab": {
          "base_uri": "https://localhost:8080/",
          "height": 110
        },
        "id": "Bze43sXgyWv2",
        "outputId": "671bb145-b033-4867-fcd6-6b7bda53ea86"
      },
      "execution_count": 3,
      "outputs": [
        {
          "output_type": "error",
          "ename": "SyntaxError",
          "evalue": "invalid syntax (<ipython-input-3-6308935ba3bd>, line 1)",
          "traceback": [
            "\u001b[0;36m  File \u001b[0;32m\"<ipython-input-3-6308935ba3bd>\"\u001b[0;36m, line \u001b[0;32m1\u001b[0m\n\u001b[0;31m    python generate_ta_data.py\u001b[0m\n\u001b[0m           ^\u001b[0m\n\u001b[0;31mSyntaxError\u001b[0m\u001b[0;31m:\u001b[0m invalid syntax\n"
          ]
        }
      ]
    }
  ]
}