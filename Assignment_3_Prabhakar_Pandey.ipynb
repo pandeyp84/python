{
  "nbformat": 4,
  "nbformat_minor": 0,
  "metadata": {
    "colab": {
      "provenance": [],
      "authorship_tag": "ABX9TyODJ8/pHt4/jbxPt9cHhlQN",
      "include_colab_link": true
    },
    "kernelspec": {
      "name": "python3",
      "display_name": "Python 3"
    },
    "language_info": {
      "name": "python"
    }
  },
  "cells": [
    {
      "cell_type": "markdown",
      "metadata": {
        "id": "view-in-github",
        "colab_type": "text"
      },
      "source": [
        "<a href=\"https://colab.research.google.com/github/pandeyp84/python/blob/main/Assignment_3_Prabhakar_Pandey.ipynb\" target=\"_parent\"><img src=\"https://colab.research.google.com/assets/colab-badge.svg\" alt=\"Open In Colab\"/></a>"
      ]
    },
    {
      "cell_type": "markdown",
      "source": [
        "Assignment 3\n",
        "1.\tHow will you reindex the columns using the axis keyword? Demonstrate the case with a suitable example in Python programming.\n",
        "2.\tWe know that by using the mapping function, we can add one more column to an existing dataframe in Pandas. In Python programming, first, create a dataframe. Then create a new column using dictionary. At the final step, add to combine this new data with the existing DataFrame.\n",
        "3.\tCalculate the determinant of a matrix using NumPy."
      ],
      "metadata": {
        "id": "rOiaK1rUOjg3"
      }
    },
    {
      "cell_type": "code",
      "execution_count": 1,
      "metadata": {
        "colab": {
          "base_uri": "https://localhost:8080/"
        },
        "id": "9aQyaGogOZS-",
        "outputId": "9644a45c-fd9c-4fa1-abda-48b86fa572cd"
      },
      "outputs": [
        {
          "output_type": "stream",
          "name": "stdout",
          "text": [
            "Original DataFrame:\n",
            "   A  B  C\n",
            "0  1  4  7\n",
            "1  2  5  8\n",
            "2  3  6  9\n",
            "\n",
            "DataFrame after reindexing columns:\n",
            "   B  A  C\n",
            "0  4  1  7\n",
            "1  5  2  8\n",
            "2  6  3  9\n"
          ]
        }
      ],
      "source": [
        "#How will you reindex the columns using the axis keyword? Demonstrate the case with a suitable example in Python programming.\n",
        "import pandas as pd\n",
        "\n",
        "# Create a DataFrame\n",
        "df = pd.DataFrame({\n",
        "    'A': [1, 2, 3],\n",
        "    'B': [4, 5, 6],\n",
        "    'C': [7, 8, 9]\n",
        "})\n",
        "\n",
        "print(\"Original DataFrame:\")\n",
        "print(df)\n",
        "\n",
        "# Reindex columns\n",
        "new_columns = ['B', 'A', 'C']\n",
        "df_reindexed = df.reindex(columns=new_columns)\n",
        "\n",
        "print(\"\\nDataFrame after reindexing columns:\")\n",
        "print(df_reindexed)\n"
      ]
    },
    {
      "cell_type": "code",
      "source": [
        "#We know that by using the mapping function, we can add one more column to an existing dataframe in Pandas.\n",
        "#In Python programming, first, create a dataframe. Then create a new column using dictionary. At the final step, add to combine this new data with the existing DataFrame.\n",
        "\n",
        "import pandas as pd\n",
        "\n",
        "# Create an original DataFrame\n",
        "df = pd.DataFrame({\n",
        "    'Name': ['Prabhakar', 'Ravi', 'Surya'],\n",
        "    'Age': [25, 30, 35]\n",
        "})\n",
        "\n",
        "print(\"Original DataFrame:\")\n",
        "print(df)\n",
        "\n",
        "# Create a new column using a dictionary\n",
        "new_column_data = {\n",
        "    0: 'Engineer',\n",
        "    1: 'Doctor',\n",
        "    2: 'Lawyer'\n",
        "}\n",
        "df['Profession'] = pd.Series(new_column_data)\n",
        "\n",
        "print(\"\\nDataFrame after adding new column:\")\n",
        "print(df)\n"
      ],
      "metadata": {
        "colab": {
          "base_uri": "https://localhost:8080/"
        },
        "id": "auUDDJMRPAjK",
        "outputId": "2f3a17ef-026e-4f1f-82c4-410ca7de4029"
      },
      "execution_count": 3,
      "outputs": [
        {
          "output_type": "stream",
          "name": "stdout",
          "text": [
            "Original DataFrame:\n",
            "        Name  Age\n",
            "0  Prabhakar   25\n",
            "1       Ravi   30\n",
            "2      Surya   35\n",
            "\n",
            "DataFrame after adding new column:\n",
            "        Name  Age Profession\n",
            "0  Prabhakar   25   Engineer\n",
            "1       Ravi   30     Doctor\n",
            "2      Surya   35     Lawyer\n"
          ]
        }
      ]
    },
    {
      "cell_type": "code",
      "source": [
        "#Calculate the determinant of a matrix using NumPy.\n",
        "import numpy as np\n",
        "\n",
        "# Create a square matrix\n",
        "matrix = np.array([[1, 2, 3],\n",
        "                   [4, 5, 6],\n",
        "                   [7, 8, 9]])\n",
        "\n",
        "# Calculate the determinant\n",
        "determinant = np.linalg.det(matrix)\n",
        "\n",
        "print(f\"The determinant of the matrix is {determinant}\")\n"
      ],
      "metadata": {
        "colab": {
          "base_uri": "https://localhost:8080/"
        },
        "id": "J74KtXniPSEb",
        "outputId": "56c8ab5a-62f0-4b37-a8aa-0085b93b2009"
      },
      "execution_count": 4,
      "outputs": [
        {
          "output_type": "stream",
          "name": "stdout",
          "text": [
            "The determinant of the matrix is 0.0\n"
          ]
        }
      ]
    }
  ]
}